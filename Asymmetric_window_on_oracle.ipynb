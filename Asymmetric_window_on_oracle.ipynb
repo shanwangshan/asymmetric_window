{
 "cells": [
  {
   "cell_type": "markdown",
   "id": "1678eb36",
   "metadata": {},
   "source": [
    "# Examples of how asymmetric window improves the oracle performance\n",
    "### Created by shanshan wang, Tampere university, Finalnd."
   ]
  },
  {
   "cell_type": "markdown",
   "id": "c2d0166e",
   "metadata": {},
   "source": [
    "### import all the necessary packages"
   ]
  },
  {
   "cell_type": "code",
   "execution_count": 80,
   "id": "24a613e3",
   "metadata": {},
   "outputs": [],
   "source": [
    "import soundfile as sf\n",
    "import librosa\n",
    "import numpy as np\n",
    "from scipy import signal\n",
    "from numpy.lib.stride_tricks import as_strided\n",
    "from scipy.fftpack import fft, ifft\n",
    "import sys\n",
    "from mir_eval import separation\n",
    "import matplotlib.pyplot as plt"
   ]
  },
  {
   "cell_type": "markdown",
   "id": "ff86de41",
   "metadata": {},
   "source": [
    "### define the asymmetric analysis window and asymmetric synthesis window"
   ]
  },
  {
   "cell_type": "code",
   "execution_count": 81,
   "id": "caa983fe",
   "metadata": {},
   "outputs": [],
   "source": [
    "def AsymSTFT(s,n_fft,winsize_long,winsize_short,hopsize):\n",
    "    \n",
    "    K = winsize_long\n",
    "    M = winsize_short//2; # 64\n",
    "    d = hopsize; #64\n",
    "    #R = hopsize # frame advance\n",
    "    \n",
    "    pro_1 = K-M-d\n",
    "    pro_2 = M\n",
    "    win_pro_1 = signal.hann(2*pro_1,sym= False)\n",
    "    win_pro_2 = signal.hann(2*pro_2,sym= False)\n",
    "    \n",
    "    win_an_1=np.zeros((d))\n",
    "    win_an_2=np.sqrt(win_pro_1[:K-2*M-d])\n",
    "    win_an_3=np.sqrt(win_pro_1[K-2*M-d:K-2*M-d+M])\n",
    "    win_an_4=np.sqrt(win_pro_2[M:M+M])\n",
    "    \n",
    "    window_analysis = np.concatenate((win_an_1,win_an_2,win_an_3,win_an_4))\n",
    "    \n",
    "    sig_padded = np.pad(s,(winsize_long-winsize_short,0),'constant')\n",
    "    n_frames=int((len(sig_padded)-K)/hopsize)+1\n",
    "        \n",
    "    y_frames = as_strided(sig_padded, shape=(K, n_frames),\n",
    "                          strides=(sig_padded.itemsize, hopsize * sig_padded.itemsize))\n",
    "    \n",
    "    spectrogram_long = np.zeros((n_fft//2+1,n_frames),dtype=np.complex_)\n",
    "    for i in np.arange(n_frames):\n",
    "        \n",
    "        \n",
    "        a=y_frames[:,i]\n",
    "        b=np.pad(a,(0,(n_fft-K)),'constant')\n",
    "        \n",
    "        window_analysis_ = np.pad(window_analysis,(0,n_fft-K),'constant')\n",
    "        window_frame=b*window_analysis_\n",
    "        spectra=fft(window_frame)\n",
    "        spectra=spectra[:n_fft//2+1] \n",
    "        spectrogram_long[:,i]=spectra\n",
    "    return spectrogram_long,np.abs(spectrogram_long),window_analysis\n",
    "    \n",
    "def AsymISTFT(spectrogram_long,s,winsize_long,winsize_short,hopsize):\n",
    "     K = winsize_long\n",
    "     M = winsize_short//2; # 64\n",
    "     d = hopsize; #64\n",
    "    \n",
    "     pro_1 = K-M-d\n",
    "     pro_2 = M\n",
    "     win_pro_1 = signal.hann(2*pro_1,sym= False)\n",
    "     win_pro_2 = signal.hann(2*pro_2,sym= False)\n",
    "     \n",
    "     win_sy_3=(win_pro_2[:M])/np.sqrt(win_pro_1[K-2*M-d:K-2*M-d+M])\n",
    "     win_sy_4=np.sqrt(win_pro_2[M:M+M])\n",
    "    \n",
    "     window_synthesis = np.concatenate((win_sy_3,win_sy_4)) \n",
    "     n_frames=spectrogram_long.shape[1]\n",
    "     output = np.zeros((s.shape[0]))\n",
    "     for n_f in np.arange(n_frames):\n",
    "        a=spectrogram_long[:,n_f]\n",
    "        b=np.conjugate(spectrogram_long[:,n_f][-2:0:-1])\n",
    "        c=np.concatenate((a,b))\n",
    "       \n",
    "        out_long = ifft(c).real\n",
    "        out_long_wnd = out_long[K-winsize_short:K]\n",
    "        #out_long_wnd = out_long[-window_synthesis.shape[0]:]\n",
    "        out_long_wnd = window_synthesis*out_long_wnd\n",
    "    \n",
    "        output[n_f*hopsize:n_f*hopsize+2*M]=output[n_f*hopsize:n_f*hopsize+2*M]+ out_long_wnd\n",
    "\n",
    "     return output, window_synthesis"
   ]
  },
  {
   "cell_type": "markdown",
   "id": "5746f742",
   "metadata": {},
   "source": [
    "### set the parameters to be used"
   ]
  },
  {
   "cell_type": "code",
   "execution_count": 82,
   "id": "b70ac2d7",
   "metadata": {},
   "outputs": [],
   "source": [
    "n_fft =512\n",
    "winsize_short = 128 # 8ms\n",
    "winsize_long = 512 # 32ms\n",
    "hopsize = 64 # 4ms"
   ]
  },
  {
   "cell_type": "markdown",
   "id": "27756dec",
   "metadata": {},
   "source": [
    "### load the example files"
   ]
  },
  {
   "cell_type": "code",
   "execution_count": 83,
   "id": "373267bc",
   "metadata": {},
   "outputs": [],
   "source": [
    "mix,sr = sf.read('mix.wav') \n",
    "s1,_ = sf.read('sig1.wav')                                                                                 \n",
    "s2,_ = sf.read('sig2.wav') "
   ]
  },
  {
   "cell_type": "markdown",
   "id": "1f00df34",
   "metadata": {},
   "source": [
    "### calculate the spectrograms for the mixture signal and two sources using the asymmetric analysis window"
   ]
  },
  {
   "cell_type": "code",
   "execution_count": 84,
   "id": "9e28e679",
   "metadata": {},
   "outputs": [],
   "source": [
    "spec0,spec_input_mix,window_analysis= AsymSTFT(mix,n_fft,winsize_long,winsize_short,hopsize)  \n",
    "_,spec_input_s1,_= AsymSTFT(s1,n_fft,winsize_long,winsize_short,hopsize)       \n",
    "_,spec_input_s2,_= AsymSTFT(s2,n_fft,winsize_long,winsize_short,hopsize) "
   ]
  },
  {
   "cell_type": "markdown",
   "id": "7f6e147a",
   "metadata": {},
   "source": [
    "### get the oracle masks"
   ]
  },
  {
   "cell_type": "code",
   "execution_count": 85,
   "id": "d0496279",
   "metadata": {},
   "outputs": [],
   "source": [
    "epsi=sys.float_info.epsilon                                                                                                          \n",
    "mask_1_es = spec_input_s1/(spec_input_s1+spec_input_s2+epsi)                                                \n",
    "mask_2_es=1-mask_1_es"
   ]
  },
  {
   "cell_type": "markdown",
   "id": "5464a045",
   "metadata": {},
   "source": [
    "### reconstruct back the signals using the asymmetric synthesis window"
   ]
  },
  {
   "cell_type": "code",
   "execution_count": 86,
   "id": "30994f32",
   "metadata": {},
   "outputs": [],
   "source": [
    "s1e=spec0*mask_1_es                                                                                         \n",
    "s2e=spec0*mask_2_es                                                                                         \n",
    "                                                                                                                                      \n",
    "es_s1_tr,window_synthesis=AsymISTFT(s1e,mix,winsize_long,winsize_short,hopsize)                      \n",
    "es_s2_tr,_=AsymISTFT(s2e,mix,winsize_long,winsize_short,hopsize)                      \n",
    "                                                                                                            \n",
    "                                                                                                            \n",
    "s1=s1[:np.min((len(es_s1_tr),len(s1)))]                                                                     \n",
    "s2=s2[:np.min((len(es_s2_tr),len(s2)))]                                                                     \n",
    "                                                                                                            "
   ]
  },
  {
   "cell_type": "markdown",
   "id": "6378443a",
   "metadata": {},
   "source": [
    "### calculate the SDR,SIR and SAR"
   ]
  },
  {
   "cell_type": "code",
   "execution_count": 87,
   "id": "b211ced8",
   "metadata": {},
   "outputs": [
    {
     "name": "stdout",
     "output_type": "stream",
     "text": [
      "sdr 11.774106905078312 sir 16.69900677862306 sar 13.587681284113534\n"
     ]
    }
   ],
   "source": [
    "groundtruth=np.zeros((2,len(s1)))                                                                           \n",
    "estimate=np.zeros((2,len(s1)))                                                                              \n",
    "groundtruth[0,:]=s1                                                                                         \n",
    "groundtruth[1,:]=s2                                                                                         \n",
    "estimate[0,:]=es_s1_tr                                                                                      \n",
    "estimate[1,:]=es_s2_tr   \n",
    "(sdr, sir, sar, perm)=separation.bss_eval_sources(groundtruth,estimate)\n",
    "print('sdr', np.mean(sdr),'sir',np.mean(sir),'sar',np.mean(sar))"
   ]
  },
  {
   "cell_type": "markdown",
   "id": "72d1d6c2",
   "metadata": {},
   "source": [
    "### visualize how asymmetric windows "
   ]
  },
  {
   "cell_type": "code",
   "execution_count": 88,
   "id": "cc506993",
   "metadata": {},
   "outputs": [
    {
     "data": {
      "image/png": "[encoded data removed]",
      "text/plain": [
       "<Figure size 432x288 with 1 Axes>"
      ]
     },
     "metadata": {
      "needs_background": "light"
     },
     "output_type": "display_data"
    }
   ],
   "source": [
    "fig, ax = plt.subplots()\n",
    "ax.plot(window_analysis,'-b', label='Asymmetric analysis window')\n",
    "ax.plot(np.pad(window_synthesis,(winsize_long-winsize_short,0),'constant', constant_values=(0)),'--r', label='Asymmetric synthesis window')\n",
    "leg = ax.legend();"
   ]
  },
  {
   "cell_type": "markdown",
   "id": "5cd732fb",
   "metadata": {},
   "source": [
    "### the oracle performace of using symmetric windows of 8 ms"
   ]
  },
  {
   "cell_type": "code",
   "execution_count": 89,
   "id": "ecf6b348",
   "metadata": {},
   "outputs": [
    {
     "name": "stdout",
     "output_type": "stream",
     "text": [
      "sdr 10.160924057085316 sir 15.108607660043127 sar 11.973578042377776\n"
     ]
    }
   ],
   "source": [
    "spec0 = librosa.core.stft(mix,n_fft= 2* winsize_short,win_length=winsize_short,hop_length=hopsize)\n",
    "spec_input_mix = np.abs(spec0)\n",
    "spec_input_s1= np.abs(librosa.core.stft(s1,n_fft= 2* winsize_short,win_length=winsize_short,hop_length=hopsize))\n",
    "spec_input_s2= np.abs(librosa.core.stft(s2,n_fft=2* winsize_short,win_length=winsize_short,hop_length=hopsize))\n",
    "                                                                                                                \n",
    "mask_1_es = spec_input_s1/(spec_input_s1+spec_input_s2+epsi)                                                \n",
    "mask_2_es=1-mask_1_es                                                                                       \n",
    "s1e=spec0*mask_1_es                                                                                         \n",
    "s2e=spec0*mask_2_es                                                                                         \n",
    "                                                                                                            \n",
    "# =============================================================================                                                  \n",
    "                                                                                                            \n",
    "es_s1_tr=librosa.istft(s1e,win_length = 128 , hop_length=64)\n",
    "es_s2_tr=librosa.istft(s2e,win_length = 128, hop_length=64)\n",
    "s1=s1[:np.min((len(es_s1_tr),len(s1)))]                                                                     \n",
    "s2=s2[:np.min((len(es_s2_tr),len(s2)))]                                                                     \n",
    "                                                                                                            \n",
    "groundtruth=np.zeros((2,len(s1)))                                                                           \n",
    "estimate=np.zeros((2,len(s1)))                                                                              \n",
    "groundtruth[0,:]=s1                                                                                         \n",
    "groundtruth[1,:]=s2                                                                                         \n",
    "estimate[0,:]=es_s1_tr                                                                                      \n",
    "estimate[1,:]=es_s2_tr   \n",
    "(sdr, sir, sar, perm)=separation.bss_eval_sources(groundtruth,estimate)\n",
    "print('sdr', np.mean(sdr),'sir',np.mean(sir),'sar',np.mean(sar))"
   ]
  },
  {
   "cell_type": "markdown",
   "id": "ff982fb5",
   "metadata": {},
   "source": [
    "### the oracle performace of using symmetric windows of 32 ms"
   ]
  },
  {
   "cell_type": "code",
   "execution_count": 90,
   "id": "85729b6a",
   "metadata": {},
   "outputs": [
    {
     "name": "stdout",
     "output_type": "stream",
     "text": [
      "sdr 13.123110917743563 sir 18.691159146897064 sar 14.616882030089938\n"
     ]
    }
   ],
   "source": [
    "spec0 = librosa.core.stft(mix,n_fft= 2* winsize_long,win_length=winsize_long,hop_length=2*hopsize)\n",
    "spec_input_mix = np.abs(spec0)\n",
    "spec_input_s1= np.abs(librosa.core.stft(s1,n_fft= 2* winsize_long,win_length=winsize_long,hop_length=2*hopsize))\n",
    "spec_input_s2= np.abs(librosa.core.stft(s2,n_fft= 2* winsize_long,win_length=winsize_long,hop_length=2*hopsize))\n",
    "                                                                                                                \n",
    "mask_1_es = spec_input_s1/(spec_input_s1+spec_input_s2+epsi)                                                \n",
    "mask_2_es=1-mask_1_es                                                                                       \n",
    "s1e=spec0*mask_1_es                                                                                         \n",
    "s2e=spec0*mask_2_es                                                                                         \n",
    "                                                                                                            \n",
    "# =============================================================================                                                  \n",
    "                                                                                                            \n",
    "es_s1_tr=librosa.istft(s1e,win_length=winsize_long,hop_length=2*hopsize)\n",
    "es_s2_tr=librosa.istft(s2e,win_length=winsize_long,hop_length=2*hopsize)\n",
    "s1=s1[:np.min((len(es_s1_tr),len(s1)))]                                                                     \n",
    "s2=s2[:np.min((len(es_s2_tr),len(s2)))]                                                                     \n",
    "                                                                                                            \n",
    "groundtruth=np.zeros((2,len(s1)))                                                                           \n",
    "estimate=np.zeros((2,len(s1)))                                                                              \n",
    "groundtruth[0,:]=s1                                                                                         \n",
    "groundtruth[1,:]=s2                                                                                         \n",
    "estimate[0,:]=es_s1_tr                                                                                      \n",
    "estimate[1,:]=es_s2_tr   \n",
    "(sdr, sir, sar, perm)=separation.bss_eval_sources(groundtruth,estimate)\n",
    "print('sdr', np.mean(sdr),'sir',np.mean(sir),'sar',np.mean(sar))"
   ]
  },
  {
   "cell_type": "markdown",
   "id": "5ddfb5e9",
   "metadata": {},
   "source": [
    "# Results analysis"
   ]
  },
  {
   "cell_type": "markdown",
   "id": "81a4f080",
   "metadata": {},
   "source": [
    "| window |(A,S) | SDR | SIR | SAR |\n",
    "| --- | --- |--- | --- | --- |\n",
    "| Sym|(8,8)| 10.16 | 15.11 | 11.97|\n",
    "| **Asym** |(32,8)| **11.77** | **16.70** | **13.59**|\n",
    "| Sym |(32,32) | 13.12 | 18.69 | 14.62|\n",
    "\n",
    "#### We report an improvement of up to 1.5 dB in terms of SDR in our evaluation.\n"
   ]
  }
 ],
 "metadata": {
  "kernelspec": {
   "display_name": "Python 3",
   "language": "python",
   "name": "python3"
  },
  "language_info": {
   "codemirror_mode": {
    "name": "ipython",
    "version": 3
   },
   "file_extension": ".py",
   "mimetype": "text/x-python",
   "name": "python",
   "nbconvert_exporter": "python",
   "pygments_lexer": "ipython3",
   "version": "3.7.6"
  }
 },
 "nbformat": 4,
 "nbformat_minor": 5
}
